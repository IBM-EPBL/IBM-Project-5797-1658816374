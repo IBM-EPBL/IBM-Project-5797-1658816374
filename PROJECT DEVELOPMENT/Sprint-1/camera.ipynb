{
  "nbformat": 4,
  "nbformat_minor": 0,
  "metadata": {
    "colab": {
      "provenance": []
    },
    "kernelspec": {
      "name": "python3",
      "display_name": "Python 3"
    },
    "language_info": {
      "name": "python"
    }
  },
  "cells": [
    {
      "cell_type": "code",
      "execution_count": 1,
      "metadata": {
        "id": "R0c4y528GhbN"
      },
      "outputs": [],
      "source": [
        "import cv2\n",
        "import numpy as np\n",
        "from tensorflow.keras.models import load_model\n",
        "from tensorflow.keras.preprocessing import image"
      ]
    },
    {
      "cell_type": "code",
      "source": [
        "class Video(object):\n",
        "\tdef __init__(self):\n",
        "\t\tself.video = cv2.VideoCapture(0)\n",
        "\t\tself.roi_start = (50, 150)\n",
        "\t\tself.roi_end = (250, 350)\n",
        "\t\tself.model = load_model('asl_model.h5') # Execute Local Trained Model\n",
        "\t\t# self.model = load_model('IBM_Communication_Model.h5') # Execute IBM Trained Model\n",
        "\t\tself.index=['A','B','C','D','E','F','G','H','I']\n",
        "\t\tself.y = None"
      ],
      "metadata": {
        "id": "e_Pcpu94GmQj"
      },
      "execution_count": 2,
      "outputs": []
    },
    {
      "cell_type": "code",
      "source": [
        "def __del__(self):\n",
        "\t\tself.video.release()\n",
        "\tdef get_frame(self):\n",
        "\t\tret,frame = self.video.read()\n",
        "\t\tframe = cv2.resize(frame, (640, 480))\n",
        "\t\tcopy = frame.copy()\n",
        "\t\tcopy = copy[150:150+200,50:50+200]"
      ],
      "metadata": {
        "colab": {
          "base_uri": "https://localhost:8080/",
          "height": 135
        },
        "id": "oCFuqt16Gqwp",
        "outputId": "2be4eda2-9974-48db-dfd6-126e6e9ac15c"
      },
      "execution_count": 14,
      "outputs": [
        {
          "output_type": "error",
          "ename": "IndentationError",
          "evalue": "ignored",
          "traceback": [
            "\u001b[0;36m  File \u001b[0;32m\"<tokenize>\"\u001b[0;36m, line \u001b[0;32m3\u001b[0m\n\u001b[0;31m    def get__frame(self):\u001b[0m\n\u001b[0m    ^\u001b[0m\n\u001b[0;31mIndentationError\u001b[0m\u001b[0;31m:\u001b[0m unindent does not match any outer indentation level\n"
          ]
        }
      ]
    },
    {
      "cell_type": "code",
      "source": [
        "# Prediction Start\n",
        "\t\tcv2.imwrite('/content/drive/MyDrive/image.jpg',copy)\n",
        "\t\tcopy_img = image.load_img('/content/drive/MyDrive/image.jpg', target_size=(64,64))\n",
        "\t\tx = image.img_to_array(copy_img)\n",
        "\t\tx = np.expand_dims(x, axis=0)\n",
        "\t\tpred = np.argmax(self.model.predict(x), axis=1)\n",
        "\t\tself.y = pred[0]\n",
        "\t\tcv2.putText(frame,'The Predicted Alphabet is: '+str(self.index[self.y]),(100,50),cv2.FONT_HERSHEY_SIMPLEX,1,(0,0,0),3)\n",
        "\t\tret,jpg = cv2.imencode('.jpg', frame)\n",
        "\t\treturn jpg.tobytes()"
      ],
      "metadata": {
        "colab": {
          "base_uri": "https://localhost:8080/",
          "height": 135
        },
        "id": "DElVO-LNHGsz",
        "outputId": "64258ac5-039d-48a8-cb7d-b2bc8884110b"
      },
      "execution_count": 17,
      "outputs": [
        {
          "output_type": "error",
          "ename": "IndentationError",
          "evalue": "ignored",
          "traceback": [
            "\u001b[0;36m  File \u001b[0;32m\"<ipython-input-17-4db4118d5464>\"\u001b[0;36m, line \u001b[0;32m2\u001b[0m\n\u001b[0;31m    cv2.imwrite('/content/drive/MyDrive/image.jpg',copy)\u001b[0m\n\u001b[0m    ^\u001b[0m\n\u001b[0;31mIndentationError\u001b[0m\u001b[0;31m:\u001b[0m unexpected indent\n"
          ]
        }
      ]
    }
  ]
}